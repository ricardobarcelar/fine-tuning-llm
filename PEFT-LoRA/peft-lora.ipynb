{
 "cells": [
  {
   "cell_type": "code",
   "execution_count": null,
   "id": "00a27f6a",
   "metadata": {
    "vscode": {
     "languageId": "plaintext"
    }
   },
   "outputs": [],
   "source": [
    "# CRIA O AMBIENTE VIRTUAL\n",
    "\n",
    "conda create -n PEFT_LoRA python=3.11\n",
    "conda activate PEFT_LoRA"
   ]
  },
  {
   "cell_type": "code",
   "execution_count": null,
   "id": "acbd57c8",
   "metadata": {
    "vscode": {
     "languageId": "plaintext"
    }
   },
   "outputs": [],
   "source": [
    "# INSTALA AS DEPENDENCIAS\n",
    "\n",
    "pip install peft trl\n",
    "\n",
    "pip install ipykernel\n",
    "python -m ipykernel install --user --name=PEFT_LoRA --display-name=\"PEFT_LoRA\""
   ]
  },
  {
   "cell_type": "code",
   "execution_count": null,
   "id": "1aa18dd1",
   "metadata": {
    "vscode": {
     "languageId": "plaintext"
    }
   },
   "outputs": [],
   "source": [
    "import tqdm as notebook_tqdm\n",
    "import json\n",
    "import torch\n",
    "from datasets import load_dataset\n",
    "from transformers import AutoTokenizer, AutoModelForCausalLM, BitsAndBytesConfig, TrainingArguments\n",
    "from peft import LoraConfig, get_peft_model, prepare_model_for_kbit_training, PeftModel\n",
    "from trl import SFTTrainer"
   ]
  },
  {
   "cell_type": "code",
   "execution_count": null,
   "id": "0e0c9657",
   "metadata": {
    "vscode": {
     "languageId": "plaintext"
    }
   },
   "outputs": [],
   "source": [
    "# CONFIGURA OS PARÂMETROS E CARREGA O DATASET\n",
    "\n",
    "MODEL_NAME = \"Qwen/Qwen2.5-0.5B-Instruct\"\n",
    "DATASET_FILE = \"dataset_instrucoes_juridico.jsonl\"\n",
    "OUTPUT_DIR = \"./modelo_juridico_adaptado_LoRA\"\n",
    "\n",
    "# Carrega o dataset a partir do arquivo JSONL\n",
    "train_dataset = load_dataset('text', data_files={'train': DATASET_FILE})\n",
    "print(\"Dataset carregado com sucesso:\")\n",
    "print(raw_datasets[\"train\"])"
   ]
  },
  {
   "cell_type": "code",
   "execution_count": null,
   "id": "79b9cfa2",
   "metadata": {
    "vscode": {
     "languageId": "plaintext"
    }
   },
   "outputs": [],
   "source": [
    "# CARREGAR MODELO E TOKENIZADOR\n",
    "\n",
    "tokenizer = AutoTokenizer.from_pretrained(MODEL_NAME, trust_remote_code=True)\n",
    "\n",
    "# Define o pad_token se não existir\n",
    "if tokenizer.pad_token is None:\n",
    "    tokenizer.pad_token = tokenizer.eos_token\n",
    "    # Ajuste para o modelo Qwen: o pad_token_id deve ser o eos_token_id\n",
    "    tokenizer.pad_token_id = tokenizer.eos_token_id\n",
    "\n",
    "# Carrega o Modelo em bfloat16 para economizar memória\n",
    "model = AutoModelForCausalLM.from_pretrained(\n",
    "    MODEL_NAME,\n",
    "    torch_dtype=torch.bfloat16,  # Carrega em 16-bit (essencial para GPUs de consumidor)\n",
    "    device_map=\"auto\",           # Mapeia o modelo para a GPU automaticamente\n",
    "    trust_remote_code=True\n",
    ")\n",
    "\n",
    "print(\"Modelo e Tokenizador carregados com sucesso em 16-bit (bfloat16).\")"
   ]
  },
  {
   "cell_type": "code",
   "execution_count": null,
   "id": "f33d0ee0",
   "metadata": {
    "vscode": {
     "languageId": "plaintext"
    }
   },
   "outputs": [],
   "source": [
    "# CONFIGURAÇÃO DO LoRA\n",
    "\n",
    "lora_config = LoraConfig(\n",
    "    r=16,\n",
    "    lora_alpha=32,\n",
    "    target_modules=[\n",
    "        \"q_proj\", \"k_proj\", \"v_proj\", \"o_proj\",\n",
    "        \"gate_proj\", \"up_proj\", \"down_proj\"\n",
    "    ],\n",
    "    lora_dropout=0.05,\n",
    "    bias=\"none\",\n",
    "    task_type=\"CAUSAL_LM\"\n",
    ")\n",
    "\n",
    "model = get_peft_model(model, lora_config)\n",
    "\n",
    "# Imprimir um resumo do modelo para confirmar a pequena porcentagem de parâmetros que serão treinados.\n",
    "model.print_trainable_parameters()"
   ]
  },
  {
   "cell_type": "code",
   "execution_count": null,
   "id": "2ee6f93f",
   "metadata": {
    "vscode": {
     "languageId": "plaintext"
    }
   },
   "outputs": [],
   "source": [
    "# CONFIGURAR E EXECUTAR O TREINAMENTO COM SFTTrainer\n",
    "\n",
    "# Argumentos de Treinamento\n",
    "training_args = TrainingArguments(\n",
    "    output_dir=OUTPUT_DIR,\n",
    "    per_device_train_batch_size=2,      # Um batch size pequeno é crucial sem quantização\n",
    "    gradient_accumulation_steps=4,      # Acumula gradientes para simular um batch maior\n",
    "    learning_rate=2e-4,                 # Taxa de aprendizado comum para PEFT\n",
    "    num_train_epochs=5,\n",
    "    logging_steps=10,\n",
    "    bf16=True,                          # Ativa o uso de bfloat16 no treinamento (otimização de memória e velocidade)\n",
    "    save_strategy=\"epoch\",\n",
    "    overwrite_output_dir=True,\n",
    ")\n",
    "\n",
    "# Instanciar o SFTTrainer\n",
    "trainer = SFTTrainer(\n",
    "    model=model,\n",
    "    train_dataset=train_dataset,\n",
    "    peft_config=lora_config,\n",
    "    dataset_text_field=\"text\",\n",
    "    max_seq_length=512,\n",
    "    args=training_args,\n",
    "    tokenizer=tokenizer,\n",
    ")\n",
    "\n",
    "# Inicia o treinamento\n",
    "trainer.train()\n",
    "\n",
    "# Salva o modelo treinado (apenas os adaptadores)\n",
    "print(f\"Treinamento concluído. Salvando os adaptadores em: {OUTPUT_DIR}\")\n",
    "trainer.save_model()"
   ]
  },
  {
   "cell_type": "code",
   "execution_count": null,
   "id": "34865c12",
   "metadata": {
    "vscode": {
     "languageId": "plaintext"
    }
   },
   "outputs": [],
   "source": [
    "# VERIFICAÇÃO E DEMONSTRAÇÃO\n",
    "\n",
    "\n",
    "# --- Prompt de Teste ---\n",
    "prompt = \"A palavra de um colaborador é suficiente para condenar alguém?\"\n",
    "formatted_prompt = f\"### Instrução:\\n{prompt}\\n\\n### Resposta:\\n\"\n",
    "\n",
    "\n",
    "# --- Carregar o modelo base original para comparação ---\n",
    "# Reutilizaremos o modelo já carregado na memória, se possível.\n",
    "base_model = model.get_base_model() \n",
    "\n",
    "# --- Carregar o modelo com os adaptadores PEFT ---\n",
    "# O `peft_model` é o modelo que já está pronto após o trainer.save_model()\n",
    "# Para garantir, recarregamos do disco.\n",
    "peft_model = PeftModel.from_pretrained(base_model, OUTPUT_DIR)\n",
    "\n",
    "# --- Gerar Respostas ---\n",
    "device = \"cuda:0\"\n",
    "inputs = tokenizer(formatted_prompt, return_tensors=\"pt\").to(device)\n",
    "\n",
    "\n",
    "print(\"--- [TESTE 1] Resposta do Modelo Original (sem fine-tuning) ---\")\n",
    "# Usamos o `base_model` para gerar a resposta original\n",
    "with torch.no_grad():\n",
    "    outputs = base_model.generate(**inputs, max_new_tokens=100, pad_token_id=tokenizer.eos_token_id)\n",
    "    print(tokenizer.decode(outputs[0], skip_special_tokens=True))\n",
    "\n",
    "print(\"\\n\" + \"=\"*50 + \"\\n\")\n",
    "\n",
    "print(\"--- [TESTE 2] Resposta do Modelo com Adapters (pós fine-tuning) ---\")\n",
    "# Usamos o `peft_model` para gerar a resposta especializada\n",
    "with torch.no_grad():\n",
    "    outputs = peft_model.generate(**inputs, max_new_tokens=100, pad_token_id=tokenizer.eos_token_id)\n",
    "    print(tokenizer.decode(outputs[0], skip_special_tokens=True))"
   ]
  }
 ],
 "metadata": {
  "language_info": {
   "name": "python"
  }
 },
 "nbformat": 4,
 "nbformat_minor": 5
}
