{
 "cells": [
  {
   "cell_type": "code",
   "execution_count": null,
   "id": "00a27f6a",
   "metadata": {
    "vscode": {
     "languageId": "plaintext"
    }
   },
   "outputs": [],
   "source": [
    "# CRIA O AMBIENTE VIRTUAL\n",
    "\n",
    "conda create -n PEFT_LoRA python=3.11\n",
    "conda activate PEFT_LoRA"
   ]
  },
  {
   "cell_type": "code",
   "execution_count": null,
   "id": "acbd57c8",
   "metadata": {
    "vscode": {
     "languageId": "plaintext"
    }
   },
   "outputs": [],
   "source": [
    "# INSTALA AS DEPENDENCIAS\n",
    "pip install torch torchvision torchaudio --index-url https://download.pytorch.org/whl/cu121\n",
    "pip install tqdm transformers==4.41.2 datasets==2.19.1 accelerate==0.30.1 tokenizers==0.19.1 peft==0.11.1 bitsandbytes==0.43.1 trl==0.9.4\n",
    "\n",
    "pip install ipykernel matplotlib\n",
    "python -m ipykernel install --user --name=PEFT_LoRA --display-name=\"PEFT_LoRA\""
   ]
  },
  {
   "cell_type": "code",
   "execution_count": 58,
   "id": "1aa18dd1",
   "metadata": {
    "vscode": {
     "languageId": "plaintext"
    }
   },
   "outputs": [],
   "source": [
    "import tqdm as notebook_tqdm\n",
    "import json\n",
    "import torch\n",
    "from datasets import load_dataset, DatasetDict\n",
    "from transformers import AutoTokenizer, AutoModelForCausalLM, BitsAndBytesConfig, TrainingArguments\n",
    "from peft import LoraConfig, get_peft_model, prepare_model_for_kbit_training, PeftModel\n",
    "from trl import SFTTrainer, SFTConfig"
   ]
  },
  {
   "cell_type": "code",
   "execution_count": 59,
   "id": "0e0c9657",
   "metadata": {
    "vscode": {
     "languageId": "plaintext"
    }
   },
   "outputs": [
    {
     "name": "stdout",
     "output_type": "stream",
     "text": [
      "Dataset carregado e dividido com sucesso:\n",
      "DatasetDict({\n",
      "    train: Dataset({\n",
      "        features: ['titulo', 'conteudo', 'link'],\n",
      "        num_rows: 1276\n",
      "    })\n",
      "    validation: Dataset({\n",
      "        features: ['titulo', 'conteudo', 'link'],\n",
      "        num_rows: 160\n",
      "    })\n",
      "    test: Dataset({\n",
      "        features: ['titulo', 'conteudo', 'link'],\n",
      "        num_rows: 160\n",
      "    })\n",
      "})\n"
     ]
    }
   ],
   "source": [
    "# CONFIGURA OS PARÂMETROS E CARREGA O DATASET\n",
    "\n",
    "MODEL_NAME = \"Qwen/Qwen2.5-0.5B-Instruct\"\n",
    "DATASET_FILE = \"dataset_instrucoes_juridico.jsonl\"\n",
    "OUTPUT_DIR = \"./modelo_juridico_adaptado_LoRA\"\n",
    "\n",
    "# Carrega o dataset a partir do arquivo JSONL\n",
    "full_dataset = load_dataset('json', data_files={'train': DATASET_FILE}, split='train')\n",
    "train_test_split = full_dataset.train_test_split(test_size=0.2, shuffle=True, seed=42)\n",
    "test_validation_split = train_test_split['test'].train_test_split(test_size=0.5, shuffle=True, seed=42)\n",
    "\n",
    "final_datasets = DatasetDict({\n",
    "    'train': train_test_split['train'],\n",
    "    'validation': test_validation_split['train'],\n",
    "    'test': test_validation_split['test']\n",
    "})\n",
    "\n",
    "def formatar_prompt_juridico(ex):\n",
    "    messages = [\n",
    "        {\"role\":\"system\",\"content\":\"Você é um assistente jurídico.\"},\n",
    "        {\"role\":\"user\",\"content\": ex[\"titulo\"]},\n",
    "        {\"role\":\"assistant\",\"content\": ex[\"conteudo\"]},\n",
    "    ]\n",
    "    return tokenizer.apply_chat_template(\n",
    "        messages, tokenize=False, add_generation_prompt=False\n",
    "    ) + tokenizer.eos_token\n",
    "\n",
    "\n",
    "print(\"Dataset carregado e dividido com sucesso:\")\n",
    "print(final_datasets)"
   ]
  },
  {
   "cell_type": "code",
   "execution_count": 60,
   "id": "79b9cfa2",
   "metadata": {
    "vscode": {
     "languageId": "plaintext"
    }
   },
   "outputs": [
    {
     "name": "stderr",
     "output_type": "stream",
     "text": [
      "Special tokens have been added in the vocabulary, make sure the associated word embeddings are fine-tuned or trained.\n"
     ]
    },
    {
     "name": "stdout",
     "output_type": "stream",
     "text": [
      "Modelo e Tokenizador carregados com sucesso em 16-bit (bfloat16).\n"
     ]
    }
   ],
   "source": [
    "# CARREGAR MODELO E TOKENIZADOR\n",
    "\n",
    "tokenizer = AutoTokenizer.from_pretrained(MODEL_NAME, trust_remote_code=True)\n",
    "\n",
    "# Define o pad_token se não existir\n",
    "if tokenizer.pad_token is None:\n",
    "    tokenizer.pad_token = tokenizer.eos_token\n",
    "    # Ajuste para o modelo Qwen: o pad_token_id deve ser o eos_token_id\n",
    "    tokenizer.pad_token_id = tokenizer.eos_token_id\n",
    "\n",
    "# Carrega o Modelo em bfloat16 para economizar memória\n",
    "model = AutoModelForCausalLM.from_pretrained(\n",
    "    MODEL_NAME,\n",
    "    torch_dtype=torch.bfloat16,  # Carrega em 16-bit (essencial para GPUs de consumidor)\n",
    "    device_map=\"auto\",           # Mapeia o modelo para a GPU automaticamente\n",
    "    trust_remote_code=True\n",
    ")\n",
    "model.config.use_cache = False\n",
    "model.config.pad_token_id = tokenizer.pad_token_id\n",
    "\n",
    "print(\"Modelo e Tokenizador carregados com sucesso em 16-bit (bfloat16).\")"
   ]
  },
  {
   "cell_type": "code",
   "execution_count": 61,
   "id": "f33d0ee0",
   "metadata": {
    "vscode": {
     "languageId": "plaintext"
    }
   },
   "outputs": [
    {
     "name": "stdout",
     "output_type": "stream",
     "text": [
      "trainable params: 17,596,416 || all params: 511,629,184 || trainable%: 3.4393\n"
     ]
    }
   ],
   "source": [
    "# CONFIGURAÇÃO DO LoRA\n",
    "\n",
    "lora_config = LoraConfig(\n",
    "    r=32,\n",
    "    lora_alpha=64,\n",
    "    target_modules=[\n",
    "        \"q_proj\", \"k_proj\", \"v_proj\", \"o_proj\", \"gate_proj\", \"up_proj\", \"down_proj\"\n",
    "    ],\n",
    "    lora_dropout=0.1,\n",
    "    bias=\"none\",\n",
    "    task_type=\"CAUSAL_LM\"\n",
    ")\n",
    "\n",
    "model = get_peft_model(model, lora_config)\n",
    "\n",
    "# Imprimir um resumo do modelo para confirmar a pequena porcentagem de parâmetros que serão treinados.\n",
    "model.print_trainable_parameters()"
   ]
  },
  {
   "cell_type": "code",
   "execution_count": 62,
   "id": "2ee6f93f",
   "metadata": {
    "vscode": {
     "languageId": "plaintext"
    }
   },
   "outputs": [
    {
     "name": "stderr",
     "output_type": "stream",
     "text": [
      "/home/ricardo/.conda/envs/PEFT_LoRA/lib/python3.11/site-packages/huggingface_hub/utils/_deprecation.py:100: FutureWarning: Deprecated argument(s) used in '__init__': packing, max_seq_length. Will not be supported from version '1.0.0'.\n",
      "\n",
      "Deprecated positional argument(s) used in SFTTrainer, please use the SFTConfig to set these arguments instead.\n",
      "  warnings.warn(message, FutureWarning)\n",
      "/home/ricardo/.conda/envs/PEFT_LoRA/lib/python3.11/site-packages/transformers/training_args.py:1965: FutureWarning: `--push_to_hub_token` is deprecated and will be removed in version 5 of 🤗 Transformers. Use `--hub_token` instead.\n",
      "  warnings.warn(\n",
      "/home/ricardo/.conda/envs/PEFT_LoRA/lib/python3.11/site-packages/trl/trainer/sft_trainer.py:181: UserWarning: You passed a `packing` argument to the SFTTrainer, the value you passed will override the one in the `SFTConfig`.\n",
      "  warnings.warn(\n",
      "/home/ricardo/.conda/envs/PEFT_LoRA/lib/python3.11/site-packages/trl/trainer/sft_trainer.py:269: UserWarning: You passed a `max_seq_length` argument to the SFTTrainer, the value you passed will override the one in the `SFTConfig`.\n",
      "  warnings.warn(\n"
     ]
    },
    {
     "data": {
      "text/html": [
       "\n",
       "    <div>\n",
       "      \n",
       "      <progress value='480' max='480' style='width:300px; height:20px; vertical-align: middle;'></progress>\n",
       "      [480/480 04:45, Epoch 9/10]\n",
       "    </div>\n",
       "    <table border=\"1\" class=\"dataframe\">\n",
       "  <thead>\n",
       " <tr style=\"text-align: left;\">\n",
       "      <th>Epoch</th>\n",
       "      <th>Training Loss</th>\n",
       "      <th>Validation Loss</th>\n",
       "    </tr>\n",
       "  </thead>\n",
       "  <tbody>\n",
       "    <tr>\n",
       "      <td>0</td>\n",
       "      <td>2.109800</td>\n",
       "      <td>2.030082</td>\n",
       "    </tr>\n",
       "    <tr>\n",
       "      <td>1</td>\n",
       "      <td>1.840400</td>\n",
       "      <td>1.942756</td>\n",
       "    </tr>\n",
       "    <tr>\n",
       "      <td>2</td>\n",
       "      <td>1.673100</td>\n",
       "      <td>1.920472</td>\n",
       "    </tr>\n",
       "    <tr>\n",
       "      <td>4</td>\n",
       "      <td>1.295900</td>\n",
       "      <td>1.996238</td>\n",
       "    </tr>\n",
       "    <tr>\n",
       "      <td>5</td>\n",
       "      <td>1.107700</td>\n",
       "      <td>2.085569</td>\n",
       "    </tr>\n",
       "    <tr>\n",
       "      <td>6</td>\n",
       "      <td>0.997300</td>\n",
       "      <td>2.158679</td>\n",
       "    </tr>\n",
       "    <tr>\n",
       "      <td>8</td>\n",
       "      <td>0.797800</td>\n",
       "      <td>2.313498</td>\n",
       "    </tr>\n",
       "    <tr>\n",
       "      <td>9</td>\n",
       "      <td>0.783700</td>\n",
       "      <td>2.344891</td>\n",
       "    </tr>\n",
       "  </tbody>\n",
       "</table><p>"
      ],
      "text/plain": [
       "<IPython.core.display.HTML object>"
      ]
     },
     "metadata": {},
     "output_type": "display_data"
    },
    {
     "name": "stderr",
     "output_type": "stream",
     "text": [
      "/home/ricardo/.conda/envs/PEFT_LoRA/lib/python3.11/site-packages/huggingface_hub/file_download.py:945: FutureWarning: `resume_download` is deprecated and will be removed in version 1.0.0. Downloads always resume when possible. If you want to force a new download, use `force_download=True`.\n",
      "  warnings.warn(\n",
      "/home/ricardo/.conda/envs/PEFT_LoRA/lib/python3.11/site-packages/huggingface_hub/file_download.py:945: FutureWarning: `resume_download` is deprecated and will be removed in version 1.0.0. Downloads always resume when possible. If you want to force a new download, use `force_download=True`.\n",
      "  warnings.warn(\n",
      "/home/ricardo/.conda/envs/PEFT_LoRA/lib/python3.11/site-packages/huggingface_hub/file_download.py:945: FutureWarning: `resume_download` is deprecated and will be removed in version 1.0.0. Downloads always resume when possible. If you want to force a new download, use `force_download=True`.\n",
      "  warnings.warn(\n",
      "/home/ricardo/.conda/envs/PEFT_LoRA/lib/python3.11/site-packages/huggingface_hub/file_download.py:945: FutureWarning: `resume_download` is deprecated and will be removed in version 1.0.0. Downloads always resume when possible. If you want to force a new download, use `force_download=True`.\n",
      "  warnings.warn(\n",
      "/home/ricardo/.conda/envs/PEFT_LoRA/lib/python3.11/site-packages/huggingface_hub/file_download.py:945: FutureWarning: `resume_download` is deprecated and will be removed in version 1.0.0. Downloads always resume when possible. If you want to force a new download, use `force_download=True`.\n",
      "  warnings.warn(\n",
      "/home/ricardo/.conda/envs/PEFT_LoRA/lib/python3.11/site-packages/huggingface_hub/file_download.py:945: FutureWarning: `resume_download` is deprecated and will be removed in version 1.0.0. Downloads always resume when possible. If you want to force a new download, use `force_download=True`.\n",
      "  warnings.warn(\n",
      "/home/ricardo/.conda/envs/PEFT_LoRA/lib/python3.11/site-packages/huggingface_hub/file_download.py:945: FutureWarning: `resume_download` is deprecated and will be removed in version 1.0.0. Downloads always resume when possible. If you want to force a new download, use `force_download=True`.\n",
      "  warnings.warn(\n",
      "/home/ricardo/.conda/envs/PEFT_LoRA/lib/python3.11/site-packages/huggingface_hub/file_download.py:945: FutureWarning: `resume_download` is deprecated and will be removed in version 1.0.0. Downloads always resume when possible. If you want to force a new download, use `force_download=True`.\n",
      "  warnings.warn(\n",
      "/home/ricardo/.conda/envs/PEFT_LoRA/lib/python3.11/site-packages/huggingface_hub/file_download.py:945: FutureWarning: `resume_download` is deprecated and will be removed in version 1.0.0. Downloads always resume when possible. If you want to force a new download, use `force_download=True`.\n",
      "  warnings.warn(\n",
      "/home/ricardo/.conda/envs/PEFT_LoRA/lib/python3.11/site-packages/huggingface_hub/file_download.py:945: FutureWarning: `resume_download` is deprecated and will be removed in version 1.0.0. Downloads always resume when possible. If you want to force a new download, use `force_download=True`.\n",
      "  warnings.warn(\n"
     ]
    },
    {
     "name": "stdout",
     "output_type": "stream",
     "text": [
      "Treinamento concluído. Salvando os adaptadores em: ./modelo_juridico_adaptado_LoRA\n"
     ]
    },
    {
     "name": "stderr",
     "output_type": "stream",
     "text": [
      "/home/ricardo/.conda/envs/PEFT_LoRA/lib/python3.11/site-packages/huggingface_hub/file_download.py:945: FutureWarning: `resume_download` is deprecated and will be removed in version 1.0.0. Downloads always resume when possible. If you want to force a new download, use `force_download=True`.\n",
      "  warnings.warn(\n"
     ]
    }
   ],
   "source": [
    "# CONFIGURAR E EXECUTAR O TREINAMENTO COM SFTTrainer\n",
    "\n",
    "# Argumentos de Treinamento\n",
    "training_args = TrainingArguments(\n",
    "    output_dir=OUTPUT_DIR,\n",
    "    per_device_train_batch_size=2,\n",
    "    gradient_accumulation_steps=4,\n",
    "    learning_rate=1e-4,\n",
    "    warmup_ratio=0.03,\n",
    "    num_train_epochs=10,\n",
    "    logging_steps=10,\n",
    "    bf16=True,\n",
    "    save_strategy=\"epoch\",\n",
    "    eval_strategy=\"epoch\",  # Avalia o modelo no final de cada época\n",
    "    metric_for_best_model=\"eval_loss\",\n",
    "    load_best_model_at_end=True,  # Carrega o melhor modelo (baseado na perda de validação) no final\n",
    "    overwrite_output_dir=True,\n",
    "    weight_decay=0.02,\n",
    ")\n",
    "\n",
    "# Instanciar o SFTTrainer\n",
    "trainer = SFTTrainer(\n",
    "    model=model,\n",
    "    peft_config=lora_config,\n",
    "    formatting_func=formatar_prompt_juridico,\n",
    "    args=training_args,\n",
    "    tokenizer=tokenizer,\n",
    "    train_dataset=final_datasets['train'],\n",
    "    eval_dataset=final_datasets['validation'],\n",
    "    packing=True,\n",
    "    max_seq_length=1024\n",
    ")\n",
    "\n",
    "# Inicia o treinamento\n",
    "trainer.train()\n",
    "\n",
    "# Salva o modelo treinado (apenas os adaptadores)\n",
    "print(f\"Treinamento concluído. Salvando os adaptadores em: {OUTPUT_DIR}\")\n",
    "trainer.save_model()"
   ]
  },
  {
   "cell_type": "code",
   "execution_count": null,
   "id": "b207c8fb-8398-4c60-b7c6-538b61d4e305",
   "metadata": {
    "jupyter": {
     "source_hidden": true
    }
   },
   "outputs": [],
   "source": [
    "# GRÁFICO DE PERDA\n",
    "\n",
    "import matplotlib.pyplot as plt\n",
    "import pandas as pd\n",
    "\n",
    "log_history = trainer.state.log_history\n",
    "df = pd.DataFrame(log_history)\n",
    "\n",
    "train_logs = df[df['loss'].notna()].copy()\n",
    "eval_logs = df[df['eval_loss'].notna()].copy()\n",
    "\n",
    "train_logs['epoch'] = train_logs['epoch'].round()\n",
    "eval_logs['epoch'] = eval_logs['epoch'].round()\n",
    "\n",
    "plt.figure(figsize=(12, 7))\n",
    "plt.plot(\n",
    "    eval_logs[\"epoch\"],\n",
    "    eval_logs[\"eval_loss\"],\n",
    "    label=\"Validation Loss\",\n",
    "    marker='o', # marcador de época\n",
    "    linestyle='-',\n",
    "    color='red'\n",
    ")\n",
    "\n",
    "# Curva de perda de treinamento\n",
    "plt.plot(\n",
    "    train_logs[\"epoch\"],\n",
    "    train_logs[\"loss\"],\n",
    "    label=\"Training Loss\",\n",
    "    marker='s', # marcador quadrado para diferenciar\n",
    "    linestyle='--',\n",
    "    color='blue'\n",
    ")\n",
    "\n",
    "plt.title(\"Curva de Perda (Loss) Durante o Treinamento\", fontsize=16)\n",
    "plt.xlabel(\"Época (Epoch)\", fontsize=12)\n",
    "plt.ylabel(\"Perda (Loss)\", fontsize=12)\n",
    "plt.legend()\n",
    "\n",
    "# Add Grade\n",
    "plt.grid(True, which='both', linestyle='--', linewidth=0.5)\n",
    "plt.tight_layout()\n",
    "plt.show()"
   ]
  },
  {
   "cell_type": "code",
   "execution_count": 65,
   "id": "34865c12",
   "metadata": {
    "vscode": {
     "languageId": "plaintext"
    }
   },
   "outputs": [
    {
     "name": "stdout",
     "output_type": "stream",
     "text": [
      "--- [TESTE 1] Resposta do Modelo Original (sem fine-tuning) ---\n",
      "### Instrução:\n",
      "Explique em poucas palavras o que se entende pelo princípio da justiça cosmopolita em relação aos tratados internacionais?\n",
      "\n",
      "### Resposta:\n",
      "O princípio da “justiça internacional” (ou “justiça global”) é um dos principais conceitos da teoria da norma. É a assertiva de que todas as normas, independentemente das suas finalidades ou objetivos, têm o mesmo valor para a coletividade e são igualmente aplicáveis em todo o mundo. Em outras palavras: todos os tratados, acordos e convenções internacionais devem ser observados com base no princípio da transparência, na eficiência, na acessibilidade e na equidade. Assim, não importa se o tratado visa a proteger direitos humanos, promover a paz ou combater determinadas formas de violência, porque esses valores são compartilhados pela sociedade mundial e deverão ser respeitados, seja por quem lê o tratado, seja por quem faz jus ao direito.  Material extraído da obra Revisa\n",
      "\n",
      "==================================================\n",
      "\n",
      "--- [TESTE 2] Resposta do Modelo com Adapters (pós fine-tuning) ---\n",
      "### Instrução:\n",
      "Explique em poucas palavras o que se entende pelo princípio da justiça cosmopolita em relação aos tratados internacionais?\n",
      "\n",
      "### Resposta:\n",
      "O princípio da justiça cosmopolita (ou internacional) é um dos princípios constitucionais do Direito Internacional. Trata-se de uma norma que, no âmbito do direito internacional, deve ser observado com cuidado e prudência. A fim de respeitar a proporcionalidade, não será permitido que a lei brasileira seja aplicada apenas na forma do tratado ou acordo multilateralmente cedido à União. Se houver uma situação excepcional de grave violação de direitos humanos, por parte de outro Estado, pode o legislador brasileiro adotar medidas cautelares, nos termos do artigo 310 do Código Penal. Não se admite, nesse caso, a punição da infração penal. O legislador tem a obrigação de proteger os interesses da República. Material extraído da obra Código de Processo Penal e Lei de Execução\n"
     ]
    }
   ],
   "source": [
    "# VERIFICAÇÃO E DEMONSTRAÇÃO\n",
    "\n",
    "\n",
    "# --- Prompt de Teste ---\n",
    "prompt = \"Explique em poucas palavras o que se entende pelo princípio da justiça cosmopolita em relação aos tratados internacionais?\"\n",
    "formatted_prompt = f\"### Instrução:\\n{prompt}\\n\\n### Resposta:\\n\"\n",
    "\n",
    "\n",
    "# Carregar o modelo base original para comparação\n",
    "base_model = model.get_base_model() \n",
    "\n",
    "# Carregar o modelo com os adaptadores PEFT\n",
    "peft_model = PeftModel.from_pretrained(base_model, OUTPUT_DIR)\n",
    "\n",
    "# Gerar Respostas\n",
    "device = \"cuda:0\"\n",
    "inputs = tokenizer(formatted_prompt, return_tensors=\"pt\").to(device)\n",
    "\n",
    "\n",
    "print(\"--- [TESTE 1] Resposta do Modelo Original (sem fine-tuning) ---\")\n",
    "with torch.no_grad():\n",
    "    outputs = base_model.generate(**inputs, max_new_tokens=200, pad_token_id=tokenizer.eos_token_id)\n",
    "    print(tokenizer.decode(outputs[0], skip_special_tokens=True))\n",
    "\n",
    "print(\"\\n\" + \"=\"*50 + \"\\n\")\n",
    "\n",
    "print(\"--- [TESTE 2] Resposta do Modelo com Adapters (pós fine-tuning) ---\")\n",
    "with torch.no_grad():\n",
    "    outputs = peft_model.generate(**inputs, max_new_tokens=200, pad_token_id=tokenizer.eos_token_id)\n",
    "    print(tokenizer.decode(outputs[0], skip_special_tokens=True))"
   ]
  },
  {
   "cell_type": "code",
   "execution_count": null,
   "id": "5cbd9961-94c7-48e0-88fa-cff641df74d7",
   "metadata": {},
   "outputs": [],
   "source": []
  }
 ],
 "metadata": {
  "kernelspec": {
   "display_name": "PEFT_LoRA",
   "language": "python",
   "name": "peft_lora"
  },
  "language_info": {
   "codemirror_mode": {
    "name": "ipython",
    "version": 3
   },
   "file_extension": ".py",
   "mimetype": "text/x-python",
   "name": "python",
   "nbconvert_exporter": "python",
   "pygments_lexer": "ipython3",
   "version": "3.11.13"
  }
 },
 "nbformat": 4,
 "nbformat_minor": 5
}
