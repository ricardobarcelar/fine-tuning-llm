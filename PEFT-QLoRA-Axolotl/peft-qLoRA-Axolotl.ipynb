{
 "cells": [
  {
   "cell_type": "code",
   "execution_count": null,
   "id": "ef950c4e-952a-4da6-bffa-8ac2ea0ef6b5",
   "metadata": {},
   "outputs": [],
   "source": [
    "# CRIA O AMBIENTE VIRTUAL\n",
    "\n",
    "conda create -n PEFT_QLoRA python=3.11\n",
    "conda activate PEFT_QLoRA"
   ]
  },
  {
   "cell_type": "code",
   "execution_count": null,
   "id": "78ee579b-3c0c-4061-92c9-36b1c25e23d0",
   "metadata": {},
   "outputs": [],
   "source": [
    "# INSTALA AS DEPENDENCIAS\n",
    "\n",
    "pip install torch torchvision torchaudio --index-url https://download.pytorch.org/whl/cu121\n",
    "pip install tqdm ipykernel ipywidgets\n",
    "\n",
    "git clone https://github.com/OpenAccess-AI-Collective/axolotl\n",
    "\n",
    "python -m ipykernel install --user --name=PEFT_QLoRA --display-name=\"PEFT_QLoRA\""
   ]
  },
  {
   "cell_type": "code",
   "execution_count": null,
   "id": "1995625a-1715-45be-9739-a37120a224d9",
   "metadata": {},
   "outputs": [],
   "source": [
    "git clone https://github.com/OpenAccess-AI-Collective/axolotl\n",
    "cd axolotl\n",
    "pip install -e .\n",
    "\n",
    "#Dependências para QLoRA (bitsandbytes, etc.)\n",
    "pip install -e \".[flash-attn,qlora]\""
   ]
  },
  {
   "cell_type": "code",
   "execution_count": null,
   "id": "880e038d-c631-43ff-9823-66b04ef2bd08",
   "metadata": {},
   "outputs": [],
   "source": [
    "# TREINAMENTO\n",
    "# Com tudo configurado, o treinamento é iniciado com um único comando no terminal.\n",
    "# Ative o ambiente axolotl.\n",
    "# Navegue até a pasta do projeto.\n",
    "\n",
    "accelerate launch -m axolotl.cli.train config_qwen_lora.yml"
   ]
  }
 ],
 "metadata": {
  "kernelspec": {
   "display_name": "",
   "name": ""
  },
  "language_info": {
   "name": ""
  }
 },
 "nbformat": 4,
 "nbformat_minor": 5
}
