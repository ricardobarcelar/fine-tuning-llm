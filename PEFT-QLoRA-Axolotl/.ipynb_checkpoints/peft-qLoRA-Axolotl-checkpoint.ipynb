{
 "cells": [
  {
   "cell_type": "markdown",
   "id": "0999c537-20f3-412d-b823-ffb3d82396b5",
   "metadata": {},
   "source": [
    "# Este notebook contém apenas instruções. Todos os comandos deverão ser realizados via terminal"
   ]
  },
  {
   "cell_type": "code",
   "execution_count": null,
   "id": "ef950c4e-952a-4da6-bffa-8ac2ea0ef6b5",
   "metadata": {},
   "outputs": [],
   "source": [
    "# CRIA O AMBIENTE VIRTUAL (Terminal)\n",
    "\n",
    "conda create -n PEFT_QLoRA python=3.11\n",
    "conda activate PEFT_QLoRA"
   ]
  },
  {
   "cell_type": "code",
   "execution_count": null,
   "id": "78ee579b-3c0c-4061-92c9-36b1c25e23d0",
   "metadata": {},
   "outputs": [],
   "source": [
    "# INSTALA AS DEPENDENCIAS (Terminal)\n",
    "\n",
    "#https://axolotl.ai/\n",
    "pip install torch torchvision torchaudio --index-url https://download.pytorch.org/whl/cu121\n",
    "pip install -U packaging==23.2 setuptools==75.8.0 wheel ninja\n",
    "pip install --no-build-isolation axolotl[flash-attn]\n",
    "\n",
    "\n",
    "pip install tqdm ipykernel ipywidgets\n",
    "python -m ipykernel install --user --name=PEFT_QLoRA --display-name=\"PEFT_QLoRA\""
   ]
  },
  {
   "cell_type": "code",
   "execution_count": 1,
   "id": "b47e7f4b-32db-4119-93d2-ffe7b0b4ee85",
   "metadata": {},
   "outputs": [
    {
     "name": "stdout",
     "output_type": "stream",
     "text": [
      "OK -> dataset_juridico_alpaca.jsonl\n"
     ]
    }
   ],
   "source": [
    "# ADAPTA O DATASET PARA ALPACA (Apenas se for o caso de ter que converter o dataset para o formato alpaca)\n",
    "\n",
    "import json\n",
    "SRC = \"dataset_instrucoes_juridico.jsonl\"\n",
    "DST = \"dataset_juridico_alpaca.jsonl\"\n",
    "INSTR = \"Responda à pergunta jurídica a seguir.\"\n",
    "\n",
    "with open(SRC, \"r\", encoding=\"utf-8\") as fin, open(DST, \"w\", encoding=\"utf-8\") as fout:\n",
    "    for line in fin:\n",
    "        ex = json.loads(line)\n",
    "        fout.write(json.dumps({\n",
    "            \"instruction\": INSTR,\n",
    "            \"input\": ex[\"titulo\"],\n",
    "            \"output\": ex[\"conteudo\"]\n",
    "        }, ensure_ascii=False) + \"\\n\")\n",
    "print(\"OK ->\", DST)"
   ]
  },
  {
   "cell_type": "code",
   "execution_count": null,
   "id": "baca5d85-c4e1-4cf7-8620-8c46f7910043",
   "metadata": {},
   "outputs": [],
   "source": [
    "# CONFIGURAÇÃO\n",
    "\n",
    "# Recomendável executar o comando accelerate config para fazer algumas configurações no ambiente para evitar mensagens de alerta."
   ]
  },
  {
   "cell_type": "code",
   "execution_count": null,
   "id": "c3c2c1f3-d7e4-4c2f-bf0b-ab063f5f8376",
   "metadata": {},
   "outputs": [],
   "source": [
    "# TREINAMENTO\n",
    "\n",
    "#- Com tudo configurado, o treinamento é iniciado com um único comando no terminal.\n",
    "#- Ative o ambiente axolotl.\n",
    "#- Navegue até a pasta do projeto.\n",
    "\n",
    "# accelerate launch -m axolotl.cli.train config_qwen_lora.yml\n"
   ]
  },
  {
   "cell_type": "markdown",
   "id": "e517d95d-d3a1-4f69-a16d-87532881d454",
   "metadata": {},
   "source": [
    "# VERIFICAÇÃO E DEMONSTRAÇÃO\n",
    "\n",
    "import torch\n",
    "from transformers import AutoTokenizer, AutoModelForCausalLM, BitsAndBytesConfig\n",
    "from peft import PeftModel\n",
    "\n",
    "BASE_MODEL_NAME = \"Qwen/Qwen2.5-0.5B-Instruct\"\n",
    "ADAPTER_PATH = \"./modelo_juridico_axolotl_lora\"\n",
    "\n",
    "# Carrega o tokenizador\n",
    "tokenizer = AutoTokenizer.from_pretrained(BASE_MODEL_NAME, trust_remote_code=True)\n",
    "if tokenizer.pad_token is None:\n",
    "    tokenizer.pad_token = tokenizer.eos_token\n",
    "\n",
    "# Configuração de quantização (QLoRA)\n",
    "bnb_config = BitsAndBytesConfig(\n",
    "    load_in_4bit=True,\n",
    "    bnb_4bit_quant_type=\"nf4\",\n",
    "    bnb_4bit_compute_dtype=torch.bfloat16\n",
    ")\n",
    "\n",
    "# Carrega o modelo base em 4-bit\n",
    "base_model = AutoModelForCausalLM.from_pretrained(\n",
    "    BASE_MODEL_NAME,\n",
    "    quantization_config=bnb_config,\n",
    "    device_map=\"auto\",\n",
    "    trust_remote_code=True,\n",
    ")\n",
    "base_model.config.pad_token_id = tokenizer.pad_token_id\n",
    "\n",
    "model = PeftModel.from_pretrained(base_model, ADAPTER_PATH)\n",
    "model.eval() # Coloca o modelo em modo de avaliação (desativa dropout, etc.)\n",
    "print(\"Modelo base e adaptador LoRA carregados com sucesso!\")\n",
    "\n",
    "# INFERÊNCIA E TESTE\n",
    "def formatar_prompt(instrucao):\n",
    "    return (\n",
    "        f\"### Instruction:\\n{instrucao}\\n\\n\"\n",
    "        \"### Response:\\n\"\n",
    "    )\n",
    "\n",
    "def gerar_resposta(instrucao):\n",
    "    prompt = formatar_prompt(instrucao)\n",
    "    \n",
    "    # Tokeniza o prompt e move para a GPU\n",
    "    inputs = tokenizer(prompt, return_tensors=\"pt\", return_attention_mask=False).to(model.device)\n",
    "    \n",
    "    # Gera a resposta\n",
    "    with torch.no_grad():\n",
    "        outputs = model.generate(**inputs, max_new_tokens=512, eos_token_id=tokenizer.eos_token_id)\n",
    "    \n",
    "    # Decodifica e extrai apenas o texto gerado (a resposta)\n",
    "    full_response = tokenizer.decode(outputs[0], skip_special_tokens=True)\n",
    "    response_only = full_response.split(\"### Response:\\n\")[1].strip()\n",
    "    \n",
    "    return response_only\n",
    "\n",
    "instrucao_1 = \"Explique em poucas palavras o que se entende pelo princípio da justiça cosmopolita em relação aos tratados internacionais?\"\n",
    "print(f\"\\nInstrução: {instrucao_1}\")\n",
    "resposta_1 = gerar_resposta(instrucao_1)\n",
    "print(f\"Resposta Gerada:\\n{resposta_1}\")\n"
   ]
  },
  {
   "cell_type": "code",
   "execution_count": null,
   "id": "d40b6717-5d17-4d3b-a925-619eadd3c7c7",
   "metadata": {},
   "outputs": [],
   "source": [
    "# MERGE DO MODELO\n",
    "\n",
    "# model = model.merge_and_unload()\n",
    "# print(\"Merge concluído!\")"
   ]
  }
 ],
 "metadata": {
  "kernelspec": {
   "display_name": "PEFT_QLoRA",
   "language": "python",
   "name": "peft_qlora"
  },
  "language_info": {
   "codemirror_mode": {
    "name": "ipython",
    "version": 3
   },
   "file_extension": ".py",
   "mimetype": "text/x-python",
   "name": "python",
   "nbconvert_exporter": "python",
   "pygments_lexer": "ipython3",
   "version": "3.11.13"
  },
  "widgets": {
   "application/vnd.jupyter.widget-state+json": {
    "state": {},
    "version_major": 2,
    "version_minor": 0
   }
  }
 },
 "nbformat": 4,
 "nbformat_minor": 5
}
